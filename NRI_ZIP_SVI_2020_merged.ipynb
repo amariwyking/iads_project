{
 "cells": [
  {
   "cell_type": "code",
   "execution_count": 1,
   "outputs": [],
   "source": [
    "import pandas as pd"
   ],
   "metadata": {
    "collapsed": false,
    "ExecuteTime": {
     "end_time": "2023-12-10T01:43:39.104457Z",
     "start_time": "2023-12-10T01:43:38.835469Z"
    }
   },
   "id": "7a260a965da43c15"
  },
  {
   "cell_type": "code",
   "execution_count": 2,
   "outputs": [
    {
     "data": {
      "text/plain": "(84122, 158)"
     },
     "metadata": {},
     "output_type": "display_data"
    }
   ],
   "source": [
    "svi2020 = pd.read_csv('SVI_2020_US.csv')\n",
    "display(svi2020.shape)"
   ],
   "metadata": {
    "collapsed": false,
    "ExecuteTime": {
     "end_time": "2023-12-10T01:43:39.667278Z",
     "start_time": "2023-12-10T01:43:39.116365Z"
    }
   },
   "id": "b03780fb7c698712"
  },
  {
   "cell_type": "code",
   "execution_count": 3,
   "outputs": [
    {
     "data": {
      "text/plain": "(84122, 158)"
     },
     "metadata": {},
     "output_type": "display_data"
    }
   ],
   "source": [
    "svi2020 = svi2020.drop_duplicates()\n",
    "display(svi2020.shape)"
   ],
   "metadata": {
    "collapsed": false,
    "ExecuteTime": {
     "end_time": "2023-12-10T01:43:39.810254Z",
     "start_time": "2023-12-10T01:43:39.665658Z"
    }
   },
   "id": "4b49368e1b0ba9da"
  },
  {
   "cell_type": "markdown",
   "source": [
    "#### Filter the SVI dataset for NYC only"
   ],
   "metadata": {
    "collapsed": false
   },
   "id": "c777ea6b0eedb252"
  },
  {
   "cell_type": "code",
   "execution_count": 4,
   "outputs": [
    {
     "data": {
      "text/plain": "       ST     STATE ST_ABBR  STCNTY    COUNTY         FIPS  \\\n49642  36  New York      NY   36005     Bronx  36005000100   \n49643  36  New York      NY   36005     Bronx  36005000200   \n49644  36  New York      NY   36005     Bronx  36005000400   \n49645  36  New York      NY   36005     Bronx  36005001600   \n49646  36  New York      NY   36005     Bronx  36005001901   \n...    ..       ...     ...     ...       ...          ...   \n53823  36  New York      NY   36085  Richmond  36085030301   \n53824  36  New York      NY   36085  Richmond  36085030302   \n53825  36  New York      NY   36085  Richmond  36085031901   \n53826  36  New York      NY   36085  Richmond  36085031902   \n53827  36  New York      NY   36085  Richmond  36085032300   \n\n                                             LOCATION  AREA_SQMI  E_TOTPOP  \\\n49642          Census Tract 1, Bronx County, New York   0.647574      6600   \n49643          Census Tract 2, Bronx County, New York   0.174839      4167   \n49644          Census Tract 4, Bronx County, New York   0.297565      5684   \n49645         Census Tract 16, Bronx County, New York   0.187290      5917   \n49646      Census Tract 19.01, Bronx County, New York   0.079154      1910   \n...                                               ...        ...       ...   \n53823  Census Tract 303.01, Richmond County, New York   0.277731      5151   \n53824  Census Tract 303.02, Richmond County, New York   0.350875      6569   \n53825  Census Tract 319.01, Richmond County, New York   0.149827      3293   \n53826  Census Tract 319.02, Richmond County, New York   0.266618      4953   \n53827     Census Tract 323, Richmond County, New York   1.493411      1200   \n\n       M_TOTPOP  ...  EP_ASIAN  MP_ASIAN  EP_AIAN  MP_AIAN  EP_NHPI  MP_NHPI  \\\n49642       684  ...       2.6       1.1      0.4      0.4      0.0      0.5   \n49643       713  ...       2.8       2.6      0.0      0.8      0.0      0.8   \n49644       986  ...       1.5       1.6      0.0      0.6      0.0      0.6   \n49645       719  ...       1.1       1.7      3.2      3.6      0.0      0.6   \n49646       301  ...       0.0       1.8      0.0      1.8      0.0      1.8   \n...         ...  ...       ...       ...      ...      ...      ...      ...   \n53823       713  ...      16.4       8.4      0.2      0.4      0.0      0.7   \n53824       838  ...       9.7       3.3      0.0      0.5      0.0      0.5   \n53825       681  ...       8.2       6.4      0.0      1.1      0.0      1.1   \n53826       739  ...       2.4       2.8      0.0      0.7      0.0      0.7   \n53827       380  ...       1.3       2.0      0.0      2.9      0.0      2.9   \n\n       EP_TWOMORE  MP_TWOMORE  EP_OTHERRACE  MP_OTHERRACE  \n49642         0.5         0.4           0.0           0.5  \n49643         0.0         0.8           1.2           2.0  \n49644         2.0         1.7           0.0           0.4  \n49645         1.0         0.9           0.9           1.0  \n49646         0.6         0.7           0.0           1.8  \n...           ...         ...           ...           ...  \n53823         4.2         5.1           0.0           0.7  \n53824         1.8         1.9           0.9           1.2  \n53825         0.0         1.1           0.0           1.1  \n53826         2.4         2.2           0.0           0.7  \n53827        19.5        22.9           1.4           2.0  \n\n[2324 rows x 158 columns]",
      "text/html": "<div>\n<style scoped>\n    .dataframe tbody tr th:only-of-type {\n        vertical-align: middle;\n    }\n\n    .dataframe tbody tr th {\n        vertical-align: top;\n    }\n\n    .dataframe thead th {\n        text-align: right;\n    }\n</style>\n<table border=\"1\" class=\"dataframe\">\n  <thead>\n    <tr style=\"text-align: right;\">\n      <th></th>\n      <th>ST</th>\n      <th>STATE</th>\n      <th>ST_ABBR</th>\n      <th>STCNTY</th>\n      <th>COUNTY</th>\n      <th>FIPS</th>\n      <th>LOCATION</th>\n      <th>AREA_SQMI</th>\n      <th>E_TOTPOP</th>\n      <th>M_TOTPOP</th>\n      <th>...</th>\n      <th>EP_ASIAN</th>\n      <th>MP_ASIAN</th>\n      <th>EP_AIAN</th>\n      <th>MP_AIAN</th>\n      <th>EP_NHPI</th>\n      <th>MP_NHPI</th>\n      <th>EP_TWOMORE</th>\n      <th>MP_TWOMORE</th>\n      <th>EP_OTHERRACE</th>\n      <th>MP_OTHERRACE</th>\n    </tr>\n  </thead>\n  <tbody>\n    <tr>\n      <th>49642</th>\n      <td>36</td>\n      <td>New York</td>\n      <td>NY</td>\n      <td>36005</td>\n      <td>Bronx</td>\n      <td>36005000100</td>\n      <td>Census Tract 1, Bronx County, New York</td>\n      <td>0.647574</td>\n      <td>6600</td>\n      <td>684</td>\n      <td>...</td>\n      <td>2.6</td>\n      <td>1.1</td>\n      <td>0.4</td>\n      <td>0.4</td>\n      <td>0.0</td>\n      <td>0.5</td>\n      <td>0.5</td>\n      <td>0.4</td>\n      <td>0.0</td>\n      <td>0.5</td>\n    </tr>\n    <tr>\n      <th>49643</th>\n      <td>36</td>\n      <td>New York</td>\n      <td>NY</td>\n      <td>36005</td>\n      <td>Bronx</td>\n      <td>36005000200</td>\n      <td>Census Tract 2, Bronx County, New York</td>\n      <td>0.174839</td>\n      <td>4167</td>\n      <td>713</td>\n      <td>...</td>\n      <td>2.8</td>\n      <td>2.6</td>\n      <td>0.0</td>\n      <td>0.8</td>\n      <td>0.0</td>\n      <td>0.8</td>\n      <td>0.0</td>\n      <td>0.8</td>\n      <td>1.2</td>\n      <td>2.0</td>\n    </tr>\n    <tr>\n      <th>49644</th>\n      <td>36</td>\n      <td>New York</td>\n      <td>NY</td>\n      <td>36005</td>\n      <td>Bronx</td>\n      <td>36005000400</td>\n      <td>Census Tract 4, Bronx County, New York</td>\n      <td>0.297565</td>\n      <td>5684</td>\n      <td>986</td>\n      <td>...</td>\n      <td>1.5</td>\n      <td>1.6</td>\n      <td>0.0</td>\n      <td>0.6</td>\n      <td>0.0</td>\n      <td>0.6</td>\n      <td>2.0</td>\n      <td>1.7</td>\n      <td>0.0</td>\n      <td>0.4</td>\n    </tr>\n    <tr>\n      <th>49645</th>\n      <td>36</td>\n      <td>New York</td>\n      <td>NY</td>\n      <td>36005</td>\n      <td>Bronx</td>\n      <td>36005001600</td>\n      <td>Census Tract 16, Bronx County, New York</td>\n      <td>0.187290</td>\n      <td>5917</td>\n      <td>719</td>\n      <td>...</td>\n      <td>1.1</td>\n      <td>1.7</td>\n      <td>3.2</td>\n      <td>3.6</td>\n      <td>0.0</td>\n      <td>0.6</td>\n      <td>1.0</td>\n      <td>0.9</td>\n      <td>0.9</td>\n      <td>1.0</td>\n    </tr>\n    <tr>\n      <th>49646</th>\n      <td>36</td>\n      <td>New York</td>\n      <td>NY</td>\n      <td>36005</td>\n      <td>Bronx</td>\n      <td>36005001901</td>\n      <td>Census Tract 19.01, Bronx County, New York</td>\n      <td>0.079154</td>\n      <td>1910</td>\n      <td>301</td>\n      <td>...</td>\n      <td>0.0</td>\n      <td>1.8</td>\n      <td>0.0</td>\n      <td>1.8</td>\n      <td>0.0</td>\n      <td>1.8</td>\n      <td>0.6</td>\n      <td>0.7</td>\n      <td>0.0</td>\n      <td>1.8</td>\n    </tr>\n    <tr>\n      <th>...</th>\n      <td>...</td>\n      <td>...</td>\n      <td>...</td>\n      <td>...</td>\n      <td>...</td>\n      <td>...</td>\n      <td>...</td>\n      <td>...</td>\n      <td>...</td>\n      <td>...</td>\n      <td>...</td>\n      <td>...</td>\n      <td>...</td>\n      <td>...</td>\n      <td>...</td>\n      <td>...</td>\n      <td>...</td>\n      <td>...</td>\n      <td>...</td>\n      <td>...</td>\n      <td>...</td>\n    </tr>\n    <tr>\n      <th>53823</th>\n      <td>36</td>\n      <td>New York</td>\n      <td>NY</td>\n      <td>36085</td>\n      <td>Richmond</td>\n      <td>36085030301</td>\n      <td>Census Tract 303.01, Richmond County, New York</td>\n      <td>0.277731</td>\n      <td>5151</td>\n      <td>713</td>\n      <td>...</td>\n      <td>16.4</td>\n      <td>8.4</td>\n      <td>0.2</td>\n      <td>0.4</td>\n      <td>0.0</td>\n      <td>0.7</td>\n      <td>4.2</td>\n      <td>5.1</td>\n      <td>0.0</td>\n      <td>0.7</td>\n    </tr>\n    <tr>\n      <th>53824</th>\n      <td>36</td>\n      <td>New York</td>\n      <td>NY</td>\n      <td>36085</td>\n      <td>Richmond</td>\n      <td>36085030302</td>\n      <td>Census Tract 303.02, Richmond County, New York</td>\n      <td>0.350875</td>\n      <td>6569</td>\n      <td>838</td>\n      <td>...</td>\n      <td>9.7</td>\n      <td>3.3</td>\n      <td>0.0</td>\n      <td>0.5</td>\n      <td>0.0</td>\n      <td>0.5</td>\n      <td>1.8</td>\n      <td>1.9</td>\n      <td>0.9</td>\n      <td>1.2</td>\n    </tr>\n    <tr>\n      <th>53825</th>\n      <td>36</td>\n      <td>New York</td>\n      <td>NY</td>\n      <td>36085</td>\n      <td>Richmond</td>\n      <td>36085031901</td>\n      <td>Census Tract 319.01, Richmond County, New York</td>\n      <td>0.149827</td>\n      <td>3293</td>\n      <td>681</td>\n      <td>...</td>\n      <td>8.2</td>\n      <td>6.4</td>\n      <td>0.0</td>\n      <td>1.1</td>\n      <td>0.0</td>\n      <td>1.1</td>\n      <td>0.0</td>\n      <td>1.1</td>\n      <td>0.0</td>\n      <td>1.1</td>\n    </tr>\n    <tr>\n      <th>53826</th>\n      <td>36</td>\n      <td>New York</td>\n      <td>NY</td>\n      <td>36085</td>\n      <td>Richmond</td>\n      <td>36085031902</td>\n      <td>Census Tract 319.02, Richmond County, New York</td>\n      <td>0.266618</td>\n      <td>4953</td>\n      <td>739</td>\n      <td>...</td>\n      <td>2.4</td>\n      <td>2.8</td>\n      <td>0.0</td>\n      <td>0.7</td>\n      <td>0.0</td>\n      <td>0.7</td>\n      <td>2.4</td>\n      <td>2.2</td>\n      <td>0.0</td>\n      <td>0.7</td>\n    </tr>\n    <tr>\n      <th>53827</th>\n      <td>36</td>\n      <td>New York</td>\n      <td>NY</td>\n      <td>36085</td>\n      <td>Richmond</td>\n      <td>36085032300</td>\n      <td>Census Tract 323, Richmond County, New York</td>\n      <td>1.493411</td>\n      <td>1200</td>\n      <td>380</td>\n      <td>...</td>\n      <td>1.3</td>\n      <td>2.0</td>\n      <td>0.0</td>\n      <td>2.9</td>\n      <td>0.0</td>\n      <td>2.9</td>\n      <td>19.5</td>\n      <td>22.9</td>\n      <td>1.4</td>\n      <td>2.0</td>\n    </tr>\n  </tbody>\n</table>\n<p>2324 rows × 158 columns</p>\n</div>"
     },
     "execution_count": 4,
     "metadata": {},
     "output_type": "execute_result"
    }
   ],
   "source": [
    "NewYork_County = ['Bronx', 'Queens', 'Kings', 'New York', 'Richmond']\n",
    "\n",
    "svi2020['COUNTY'] = svi2020['COUNTY'].replace({'Bronx County': 'Bronx', 'King County': 'King','New York County': 'New York','Queens County': 'Queens','Richmond County': 'Richmond'})\n",
    "svi2020= svi2020[svi2020['COUNTY'].isin(NewYork_County)]\n",
    "svi2020 = svi2020[svi2020['STATE'] == 'New York']\n",
    "svi2020"
   ],
   "metadata": {
    "collapsed": false,
    "ExecuteTime": {
     "end_time": "2023-12-10T01:43:39.842814Z",
     "start_time": "2023-12-10T01:43:39.813010Z"
    }
   },
   "id": "f80ec5d38bcce82f"
  },
  {
   "cell_type": "markdown",
   "source": [
    "#### Import NRI dataset containing the tracts and corresponsding ZIP codes"
   ],
   "metadata": {
    "collapsed": false
   },
   "id": "5954e6908f74d7cf"
  },
  {
   "cell_type": "code",
   "execution_count": 5,
   "outputs": [
    {
     "data": {
      "text/plain": "              OID_        NRI_ID     STATE STATEABBRV  STATEFIPS    COUNTY  \\\nFIPS                                                                         \n36005000100  49619  T36005000100  New York         NY         36     Bronx   \n36005000200  49620  T36005000200  New York         NY         36     Bronx   \n36005000400  49621  T36005000400  New York         NY         36     Bronx   \n36005001600  49622  T36005001600  New York         NY         36     Bronx   \n36005001901  49623  T36005001901  New York         NY         36     Bronx   \n...            ...           ...       ...        ...        ...       ...   \n36085030301  53799  T36085030301  New York         NY         36  Richmond   \n36085030302  53800  T36085030302  New York         NY         36  Richmond   \n36085031901  53801  T36085031901  New York         NY         36  Richmond   \n36085031902  53802  T36085031902  New York         NY         36  Richmond   \n36085032300  53803  T36085032300  New York         NY         36  Richmond   \n\n            COUNTYTYPE  COUNTYFIPS  STCOFIPS  TRACT  ...            WNTW_EALR  \\\nFIPS                                                 ...                        \n36005000100     County           5     36005    100  ...       Relatively Low   \n36005000200     County           5     36005    200  ...       Relatively Low   \n36005000400     County           5     36005    400  ...       Relatively Low   \n36005001600     County           5     36005   1600  ...       Relatively Low   \n36005001901     County           5     36005   1901  ...       Relatively Low   \n...                ...         ...       ...    ...  ...                  ...   \n36085030301     County          85     36085  30301  ...       Relatively Low   \n36085030302     County          85     36085  30302  ...  Relatively Moderate   \n36085031901     County          85     36085  31901  ...       Relatively Low   \n36085031902     County          85     36085  31902  ...       Relatively Low   \n36085032300     County          85     36085  32300  ...       Relatively Low   \n\n                WNTW_ALRB     WNTW_ALRP     WNTW_ALRA  WNTW_ALR_NPCTL  \\\nFIPS                                                                    \n36005000100  2.034727e-07  7.579075e-09  0.000000e+00       35.633088   \n36005000200  1.762653e-07  6.753514e-09  0.000000e+00       26.944125   \n36005000400  1.762653e-07  6.753514e-09  0.000000e+00       27.917655   \n36005001600  1.762653e-07  6.753514e-09  0.000000e+00       26.876013   \n36005001901  3.100849e-07  1.187838e-08  0.000000e+00       34.441130   \n...                   ...           ...           ...             ...   \n36085030301  1.697369e-07  2.719985e-08  0.000000e+00       42.857646   \n36085030302  1.697369e-07  2.719985e-08  0.000000e+00       42.963337   \n36085031901  1.697369e-07  2.719985e-08  0.000000e+00       43.047890   \n36085031902  8.977510e-08  1.420103e-08  0.000000e+00       33.606172   \n36085032300  1.378944e-07  2.446915e-08  2.042799e-07       39.839585   \n\n              WNTW_RISKV WNTW_RISKS           WNTW_RISKR     NRI_VER ZIP_code  \nFIPS                                                                           \n36005000100  1405.278838  48.781097       Relatively Low  March 2023      NaN  \n36005000200   760.191790  38.195072       Relatively Low  March 2023  10473.0  \n36005000400   811.142152  39.132141       Relatively Low  March 2023  10473.0  \n36005001600  1038.295871  43.033820       Relatively Low  March 2023  10473.0  \n36005001901   688.860976  36.803739       Relatively Low  March 2023  10454.0  \n...                  ...        ...                  ...         ...      ...  \n36085030301  1802.571830  53.527089       Relatively Low  March 2023  10314.0  \n36085030302  2737.587263  62.206869  Relatively Moderate  March 2023  10303.0  \n36085031901  1621.102447  51.465062       Relatively Low  March 2023  10303.0  \n36085031902  1369.473117  48.275698       Relatively Low  March 2023  10303.0  \n36085032300   431.022941  31.421538       Relatively Low  March 2023  10303.0  \n\n[2324 rows x 467 columns]",
      "text/html": "<div>\n<style scoped>\n    .dataframe tbody tr th:only-of-type {\n        vertical-align: middle;\n    }\n\n    .dataframe tbody tr th {\n        vertical-align: top;\n    }\n\n    .dataframe thead th {\n        text-align: right;\n    }\n</style>\n<table border=\"1\" class=\"dataframe\">\n  <thead>\n    <tr style=\"text-align: right;\">\n      <th></th>\n      <th>OID_</th>\n      <th>NRI_ID</th>\n      <th>STATE</th>\n      <th>STATEABBRV</th>\n      <th>STATEFIPS</th>\n      <th>COUNTY</th>\n      <th>COUNTYTYPE</th>\n      <th>COUNTYFIPS</th>\n      <th>STCOFIPS</th>\n      <th>TRACT</th>\n      <th>...</th>\n      <th>WNTW_EALR</th>\n      <th>WNTW_ALRB</th>\n      <th>WNTW_ALRP</th>\n      <th>WNTW_ALRA</th>\n      <th>WNTW_ALR_NPCTL</th>\n      <th>WNTW_RISKV</th>\n      <th>WNTW_RISKS</th>\n      <th>WNTW_RISKR</th>\n      <th>NRI_VER</th>\n      <th>ZIP_code</th>\n    </tr>\n    <tr>\n      <th>FIPS</th>\n      <th></th>\n      <th></th>\n      <th></th>\n      <th></th>\n      <th></th>\n      <th></th>\n      <th></th>\n      <th></th>\n      <th></th>\n      <th></th>\n      <th></th>\n      <th></th>\n      <th></th>\n      <th></th>\n      <th></th>\n      <th></th>\n      <th></th>\n      <th></th>\n      <th></th>\n      <th></th>\n      <th></th>\n    </tr>\n  </thead>\n  <tbody>\n    <tr>\n      <th>36005000100</th>\n      <td>49619</td>\n      <td>T36005000100</td>\n      <td>New York</td>\n      <td>NY</td>\n      <td>36</td>\n      <td>Bronx</td>\n      <td>County</td>\n      <td>5</td>\n      <td>36005</td>\n      <td>100</td>\n      <td>...</td>\n      <td>Relatively Low</td>\n      <td>2.034727e-07</td>\n      <td>7.579075e-09</td>\n      <td>0.000000e+00</td>\n      <td>35.633088</td>\n      <td>1405.278838</td>\n      <td>48.781097</td>\n      <td>Relatively Low</td>\n      <td>March 2023</td>\n      <td>NaN</td>\n    </tr>\n    <tr>\n      <th>36005000200</th>\n      <td>49620</td>\n      <td>T36005000200</td>\n      <td>New York</td>\n      <td>NY</td>\n      <td>36</td>\n      <td>Bronx</td>\n      <td>County</td>\n      <td>5</td>\n      <td>36005</td>\n      <td>200</td>\n      <td>...</td>\n      <td>Relatively Low</td>\n      <td>1.762653e-07</td>\n      <td>6.753514e-09</td>\n      <td>0.000000e+00</td>\n      <td>26.944125</td>\n      <td>760.191790</td>\n      <td>38.195072</td>\n      <td>Relatively Low</td>\n      <td>March 2023</td>\n      <td>10473.0</td>\n    </tr>\n    <tr>\n      <th>36005000400</th>\n      <td>49621</td>\n      <td>T36005000400</td>\n      <td>New York</td>\n      <td>NY</td>\n      <td>36</td>\n      <td>Bronx</td>\n      <td>County</td>\n      <td>5</td>\n      <td>36005</td>\n      <td>400</td>\n      <td>...</td>\n      <td>Relatively Low</td>\n      <td>1.762653e-07</td>\n      <td>6.753514e-09</td>\n      <td>0.000000e+00</td>\n      <td>27.917655</td>\n      <td>811.142152</td>\n      <td>39.132141</td>\n      <td>Relatively Low</td>\n      <td>March 2023</td>\n      <td>10473.0</td>\n    </tr>\n    <tr>\n      <th>36005001600</th>\n      <td>49622</td>\n      <td>T36005001600</td>\n      <td>New York</td>\n      <td>NY</td>\n      <td>36</td>\n      <td>Bronx</td>\n      <td>County</td>\n      <td>5</td>\n      <td>36005</td>\n      <td>1600</td>\n      <td>...</td>\n      <td>Relatively Low</td>\n      <td>1.762653e-07</td>\n      <td>6.753514e-09</td>\n      <td>0.000000e+00</td>\n      <td>26.876013</td>\n      <td>1038.295871</td>\n      <td>43.033820</td>\n      <td>Relatively Low</td>\n      <td>March 2023</td>\n      <td>10473.0</td>\n    </tr>\n    <tr>\n      <th>36005001901</th>\n      <td>49623</td>\n      <td>T36005001901</td>\n      <td>New York</td>\n      <td>NY</td>\n      <td>36</td>\n      <td>Bronx</td>\n      <td>County</td>\n      <td>5</td>\n      <td>36005</td>\n      <td>1901</td>\n      <td>...</td>\n      <td>Relatively Low</td>\n      <td>3.100849e-07</td>\n      <td>1.187838e-08</td>\n      <td>0.000000e+00</td>\n      <td>34.441130</td>\n      <td>688.860976</td>\n      <td>36.803739</td>\n      <td>Relatively Low</td>\n      <td>March 2023</td>\n      <td>10454.0</td>\n    </tr>\n    <tr>\n      <th>...</th>\n      <td>...</td>\n      <td>...</td>\n      <td>...</td>\n      <td>...</td>\n      <td>...</td>\n      <td>...</td>\n      <td>...</td>\n      <td>...</td>\n      <td>...</td>\n      <td>...</td>\n      <td>...</td>\n      <td>...</td>\n      <td>...</td>\n      <td>...</td>\n      <td>...</td>\n      <td>...</td>\n      <td>...</td>\n      <td>...</td>\n      <td>...</td>\n      <td>...</td>\n      <td>...</td>\n    </tr>\n    <tr>\n      <th>36085030301</th>\n      <td>53799</td>\n      <td>T36085030301</td>\n      <td>New York</td>\n      <td>NY</td>\n      <td>36</td>\n      <td>Richmond</td>\n      <td>County</td>\n      <td>85</td>\n      <td>36085</td>\n      <td>30301</td>\n      <td>...</td>\n      <td>Relatively Low</td>\n      <td>1.697369e-07</td>\n      <td>2.719985e-08</td>\n      <td>0.000000e+00</td>\n      <td>42.857646</td>\n      <td>1802.571830</td>\n      <td>53.527089</td>\n      <td>Relatively Low</td>\n      <td>March 2023</td>\n      <td>10314.0</td>\n    </tr>\n    <tr>\n      <th>36085030302</th>\n      <td>53800</td>\n      <td>T36085030302</td>\n      <td>New York</td>\n      <td>NY</td>\n      <td>36</td>\n      <td>Richmond</td>\n      <td>County</td>\n      <td>85</td>\n      <td>36085</td>\n      <td>30302</td>\n      <td>...</td>\n      <td>Relatively Moderate</td>\n      <td>1.697369e-07</td>\n      <td>2.719985e-08</td>\n      <td>0.000000e+00</td>\n      <td>42.963337</td>\n      <td>2737.587263</td>\n      <td>62.206869</td>\n      <td>Relatively Moderate</td>\n      <td>March 2023</td>\n      <td>10303.0</td>\n    </tr>\n    <tr>\n      <th>36085031901</th>\n      <td>53801</td>\n      <td>T36085031901</td>\n      <td>New York</td>\n      <td>NY</td>\n      <td>36</td>\n      <td>Richmond</td>\n      <td>County</td>\n      <td>85</td>\n      <td>36085</td>\n      <td>31901</td>\n      <td>...</td>\n      <td>Relatively Low</td>\n      <td>1.697369e-07</td>\n      <td>2.719985e-08</td>\n      <td>0.000000e+00</td>\n      <td>43.047890</td>\n      <td>1621.102447</td>\n      <td>51.465062</td>\n      <td>Relatively Low</td>\n      <td>March 2023</td>\n      <td>10303.0</td>\n    </tr>\n    <tr>\n      <th>36085031902</th>\n      <td>53802</td>\n      <td>T36085031902</td>\n      <td>New York</td>\n      <td>NY</td>\n      <td>36</td>\n      <td>Richmond</td>\n      <td>County</td>\n      <td>85</td>\n      <td>36085</td>\n      <td>31902</td>\n      <td>...</td>\n      <td>Relatively Low</td>\n      <td>8.977510e-08</td>\n      <td>1.420103e-08</td>\n      <td>0.000000e+00</td>\n      <td>33.606172</td>\n      <td>1369.473117</td>\n      <td>48.275698</td>\n      <td>Relatively Low</td>\n      <td>March 2023</td>\n      <td>10303.0</td>\n    </tr>\n    <tr>\n      <th>36085032300</th>\n      <td>53803</td>\n      <td>T36085032300</td>\n      <td>New York</td>\n      <td>NY</td>\n      <td>36</td>\n      <td>Richmond</td>\n      <td>County</td>\n      <td>85</td>\n      <td>36085</td>\n      <td>32300</td>\n      <td>...</td>\n      <td>Relatively Low</td>\n      <td>1.378944e-07</td>\n      <td>2.446915e-08</td>\n      <td>2.042799e-07</td>\n      <td>39.839585</td>\n      <td>431.022941</td>\n      <td>31.421538</td>\n      <td>Relatively Low</td>\n      <td>March 2023</td>\n      <td>10303.0</td>\n    </tr>\n  </tbody>\n</table>\n<p>2324 rows × 467 columns</p>\n</div>"
     },
     "metadata": {},
     "output_type": "display_data"
    }
   ],
   "source": [
    "NRI_zip_codes = pd.read_csv('NRI_zip_codes.csv', index_col=0)\n",
    "NRI_zip_codes = NRI_zip_codes.rename(columns={'TRACTFIPS': 'FIPS'})\n",
    "NRI_zip_codes = NRI_zip_codes.set_index('FIPS')\n",
    "display(NRI_zip_codes)"
   ],
   "metadata": {
    "collapsed": false,
    "ExecuteTime": {
     "end_time": "2023-12-10T01:43:39.948440Z",
     "start_time": "2023-12-10T01:43:39.844106Z"
    }
   },
   "id": "5b8e05f6aea62b2"
  },
  {
   "cell_type": "markdown",
   "source": [
    "#### Merge the NRI codes to the SVI dataset "
   ],
   "metadata": {
    "collapsed": false
   },
   "id": "9d39e298bde0572d"
  },
  {
   "cell_type": "code",
   "execution_count": 6,
   "outputs": [
    {
     "data": {
      "text/plain": "             ST STATE_SVI ST_ABBR  STCNTY COUNTY_SVI  \\\nFIPS                                                   \n36005000100  36  New York      NY   36005      Bronx   \n36005000200  36  New York      NY   36005      Bronx   \n36005000400  36  New York      NY   36005      Bronx   \n36005001600  36  New York      NY   36005      Bronx   \n36005001901  36  New York      NY   36005      Bronx   \n...          ..       ...     ...     ...        ...   \n36085030301  36  New York      NY   36085   Richmond   \n36085030302  36  New York      NY   36085   Richmond   \n36085031901  36  New York      NY   36085   Richmond   \n36085031902  36  New York      NY   36085   Richmond   \n36085032300  36  New York      NY   36085   Richmond   \n\n                                                   LOCATION  AREA_SQMI  \\\nFIPS                                                                     \n36005000100          Census Tract 1, Bronx County, New York   0.647574   \n36005000200          Census Tract 2, Bronx County, New York   0.174839   \n36005000400          Census Tract 4, Bronx County, New York   0.297565   \n36005001600         Census Tract 16, Bronx County, New York   0.187290   \n36005001901      Census Tract 19.01, Bronx County, New York   0.079154   \n...                                                     ...        ...   \n36085030301  Census Tract 303.01, Richmond County, New York   0.277731   \n36085030302  Census Tract 303.02, Richmond County, New York   0.350875   \n36085031901  Census Tract 319.01, Richmond County, New York   0.149827   \n36085031902  Census Tract 319.02, Richmond County, New York   0.266618   \n36085032300     Census Tract 323, Richmond County, New York   1.493411   \n\n             E_TOTPOP  M_TOTPOP  E_HU  ...            WNTW_EALR     WNTW_ALRB  \\\nFIPS                                   ...                                      \n36005000100      6600       684     0  ...       Relatively Low  2.034727e-07   \n36005000200      4167       713  1462  ...       Relatively Low  1.762653e-07   \n36005000400      5684       986  2198  ...       Relatively Low  1.762653e-07   \n36005001600      5917       719  2175  ...       Relatively Low  1.762653e-07   \n36005001901      1910       301   843  ...       Relatively Low  3.100849e-07   \n...               ...       ...   ...  ...                  ...           ...   \n36085030301      5151       713  1987  ...       Relatively Low  1.697369e-07   \n36085030302      6569       838  2276  ...  Relatively Moderate  1.697369e-07   \n36085031901      3293       681  1266  ...       Relatively Low  1.697369e-07   \n36085031902      4953       739  1795  ...       Relatively Low  8.977510e-08   \n36085032300      1200       380   500  ...       Relatively Low  1.378944e-07   \n\n                WNTW_ALRP     WNTW_ALRA  WNTW_ALR_NPCTL   WNTW_RISKV  \\\nFIPS                                                                   \n36005000100  7.579075e-09  0.000000e+00       35.633088  1405.278838   \n36005000200  6.753514e-09  0.000000e+00       26.944125   760.191790   \n36005000400  6.753514e-09  0.000000e+00       27.917655   811.142152   \n36005001600  6.753514e-09  0.000000e+00       26.876013  1038.295871   \n36005001901  1.187838e-08  0.000000e+00       34.441130   688.860976   \n...                   ...           ...             ...          ...   \n36085030301  2.719985e-08  0.000000e+00       42.857646  1802.571830   \n36085030302  2.719985e-08  0.000000e+00       42.963337  2737.587263   \n36085031901  2.719985e-08  0.000000e+00       43.047890  1621.102447   \n36085031902  1.420103e-08  0.000000e+00       33.606172  1369.473117   \n36085032300  2.446915e-08  2.042799e-07       39.839585   431.022941   \n\n             WNTW_RISKS           WNTW_RISKR     NRI_VER  ZIP_code  \nFIPS                                                                \n36005000100   48.781097       Relatively Low  March 2023       NaN  \n36005000200   38.195072       Relatively Low  March 2023   10473.0  \n36005000400   39.132141       Relatively Low  March 2023   10473.0  \n36005001600   43.033820       Relatively Low  March 2023   10473.0  \n36005001901   36.803739       Relatively Low  March 2023   10454.0  \n...                 ...                  ...         ...       ...  \n36085030301   53.527089       Relatively Low  March 2023   10314.0  \n36085030302   62.206869  Relatively Moderate  March 2023   10303.0  \n36085031901   51.465062       Relatively Low  March 2023   10303.0  \n36085031902   48.275698       Relatively Low  March 2023   10303.0  \n36085032300   31.421538       Relatively Low  March 2023   10303.0  \n\n[2324 rows x 624 columns]",
      "text/html": "<div>\n<style scoped>\n    .dataframe tbody tr th:only-of-type {\n        vertical-align: middle;\n    }\n\n    .dataframe tbody tr th {\n        vertical-align: top;\n    }\n\n    .dataframe thead th {\n        text-align: right;\n    }\n</style>\n<table border=\"1\" class=\"dataframe\">\n  <thead>\n    <tr style=\"text-align: right;\">\n      <th></th>\n      <th>ST</th>\n      <th>STATE_SVI</th>\n      <th>ST_ABBR</th>\n      <th>STCNTY</th>\n      <th>COUNTY_SVI</th>\n      <th>LOCATION</th>\n      <th>AREA_SQMI</th>\n      <th>E_TOTPOP</th>\n      <th>M_TOTPOP</th>\n      <th>E_HU</th>\n      <th>...</th>\n      <th>WNTW_EALR</th>\n      <th>WNTW_ALRB</th>\n      <th>WNTW_ALRP</th>\n      <th>WNTW_ALRA</th>\n      <th>WNTW_ALR_NPCTL</th>\n      <th>WNTW_RISKV</th>\n      <th>WNTW_RISKS</th>\n      <th>WNTW_RISKR</th>\n      <th>NRI_VER</th>\n      <th>ZIP_code</th>\n    </tr>\n    <tr>\n      <th>FIPS</th>\n      <th></th>\n      <th></th>\n      <th></th>\n      <th></th>\n      <th></th>\n      <th></th>\n      <th></th>\n      <th></th>\n      <th></th>\n      <th></th>\n      <th></th>\n      <th></th>\n      <th></th>\n      <th></th>\n      <th></th>\n      <th></th>\n      <th></th>\n      <th></th>\n      <th></th>\n      <th></th>\n      <th></th>\n    </tr>\n  </thead>\n  <tbody>\n    <tr>\n      <th>36005000100</th>\n      <td>36</td>\n      <td>New York</td>\n      <td>NY</td>\n      <td>36005</td>\n      <td>Bronx</td>\n      <td>Census Tract 1, Bronx County, New York</td>\n      <td>0.647574</td>\n      <td>6600</td>\n      <td>684</td>\n      <td>0</td>\n      <td>...</td>\n      <td>Relatively Low</td>\n      <td>2.034727e-07</td>\n      <td>7.579075e-09</td>\n      <td>0.000000e+00</td>\n      <td>35.633088</td>\n      <td>1405.278838</td>\n      <td>48.781097</td>\n      <td>Relatively Low</td>\n      <td>March 2023</td>\n      <td>NaN</td>\n    </tr>\n    <tr>\n      <th>36005000200</th>\n      <td>36</td>\n      <td>New York</td>\n      <td>NY</td>\n      <td>36005</td>\n      <td>Bronx</td>\n      <td>Census Tract 2, Bronx County, New York</td>\n      <td>0.174839</td>\n      <td>4167</td>\n      <td>713</td>\n      <td>1462</td>\n      <td>...</td>\n      <td>Relatively Low</td>\n      <td>1.762653e-07</td>\n      <td>6.753514e-09</td>\n      <td>0.000000e+00</td>\n      <td>26.944125</td>\n      <td>760.191790</td>\n      <td>38.195072</td>\n      <td>Relatively Low</td>\n      <td>March 2023</td>\n      <td>10473.0</td>\n    </tr>\n    <tr>\n      <th>36005000400</th>\n      <td>36</td>\n      <td>New York</td>\n      <td>NY</td>\n      <td>36005</td>\n      <td>Bronx</td>\n      <td>Census Tract 4, Bronx County, New York</td>\n      <td>0.297565</td>\n      <td>5684</td>\n      <td>986</td>\n      <td>2198</td>\n      <td>...</td>\n      <td>Relatively Low</td>\n      <td>1.762653e-07</td>\n      <td>6.753514e-09</td>\n      <td>0.000000e+00</td>\n      <td>27.917655</td>\n      <td>811.142152</td>\n      <td>39.132141</td>\n      <td>Relatively Low</td>\n      <td>March 2023</td>\n      <td>10473.0</td>\n    </tr>\n    <tr>\n      <th>36005001600</th>\n      <td>36</td>\n      <td>New York</td>\n      <td>NY</td>\n      <td>36005</td>\n      <td>Bronx</td>\n      <td>Census Tract 16, Bronx County, New York</td>\n      <td>0.187290</td>\n      <td>5917</td>\n      <td>719</td>\n      <td>2175</td>\n      <td>...</td>\n      <td>Relatively Low</td>\n      <td>1.762653e-07</td>\n      <td>6.753514e-09</td>\n      <td>0.000000e+00</td>\n      <td>26.876013</td>\n      <td>1038.295871</td>\n      <td>43.033820</td>\n      <td>Relatively Low</td>\n      <td>March 2023</td>\n      <td>10473.0</td>\n    </tr>\n    <tr>\n      <th>36005001901</th>\n      <td>36</td>\n      <td>New York</td>\n      <td>NY</td>\n      <td>36005</td>\n      <td>Bronx</td>\n      <td>Census Tract 19.01, Bronx County, New York</td>\n      <td>0.079154</td>\n      <td>1910</td>\n      <td>301</td>\n      <td>843</td>\n      <td>...</td>\n      <td>Relatively Low</td>\n      <td>3.100849e-07</td>\n      <td>1.187838e-08</td>\n      <td>0.000000e+00</td>\n      <td>34.441130</td>\n      <td>688.860976</td>\n      <td>36.803739</td>\n      <td>Relatively Low</td>\n      <td>March 2023</td>\n      <td>10454.0</td>\n    </tr>\n    <tr>\n      <th>...</th>\n      <td>...</td>\n      <td>...</td>\n      <td>...</td>\n      <td>...</td>\n      <td>...</td>\n      <td>...</td>\n      <td>...</td>\n      <td>...</td>\n      <td>...</td>\n      <td>...</td>\n      <td>...</td>\n      <td>...</td>\n      <td>...</td>\n      <td>...</td>\n      <td>...</td>\n      <td>...</td>\n      <td>...</td>\n      <td>...</td>\n      <td>...</td>\n      <td>...</td>\n      <td>...</td>\n    </tr>\n    <tr>\n      <th>36085030301</th>\n      <td>36</td>\n      <td>New York</td>\n      <td>NY</td>\n      <td>36085</td>\n      <td>Richmond</td>\n      <td>Census Tract 303.01, Richmond County, New York</td>\n      <td>0.277731</td>\n      <td>5151</td>\n      <td>713</td>\n      <td>1987</td>\n      <td>...</td>\n      <td>Relatively Low</td>\n      <td>1.697369e-07</td>\n      <td>2.719985e-08</td>\n      <td>0.000000e+00</td>\n      <td>42.857646</td>\n      <td>1802.571830</td>\n      <td>53.527089</td>\n      <td>Relatively Low</td>\n      <td>March 2023</td>\n      <td>10314.0</td>\n    </tr>\n    <tr>\n      <th>36085030302</th>\n      <td>36</td>\n      <td>New York</td>\n      <td>NY</td>\n      <td>36085</td>\n      <td>Richmond</td>\n      <td>Census Tract 303.02, Richmond County, New York</td>\n      <td>0.350875</td>\n      <td>6569</td>\n      <td>838</td>\n      <td>2276</td>\n      <td>...</td>\n      <td>Relatively Moderate</td>\n      <td>1.697369e-07</td>\n      <td>2.719985e-08</td>\n      <td>0.000000e+00</td>\n      <td>42.963337</td>\n      <td>2737.587263</td>\n      <td>62.206869</td>\n      <td>Relatively Moderate</td>\n      <td>March 2023</td>\n      <td>10303.0</td>\n    </tr>\n    <tr>\n      <th>36085031901</th>\n      <td>36</td>\n      <td>New York</td>\n      <td>NY</td>\n      <td>36085</td>\n      <td>Richmond</td>\n      <td>Census Tract 319.01, Richmond County, New York</td>\n      <td>0.149827</td>\n      <td>3293</td>\n      <td>681</td>\n      <td>1266</td>\n      <td>...</td>\n      <td>Relatively Low</td>\n      <td>1.697369e-07</td>\n      <td>2.719985e-08</td>\n      <td>0.000000e+00</td>\n      <td>43.047890</td>\n      <td>1621.102447</td>\n      <td>51.465062</td>\n      <td>Relatively Low</td>\n      <td>March 2023</td>\n      <td>10303.0</td>\n    </tr>\n    <tr>\n      <th>36085031902</th>\n      <td>36</td>\n      <td>New York</td>\n      <td>NY</td>\n      <td>36085</td>\n      <td>Richmond</td>\n      <td>Census Tract 319.02, Richmond County, New York</td>\n      <td>0.266618</td>\n      <td>4953</td>\n      <td>739</td>\n      <td>1795</td>\n      <td>...</td>\n      <td>Relatively Low</td>\n      <td>8.977510e-08</td>\n      <td>1.420103e-08</td>\n      <td>0.000000e+00</td>\n      <td>33.606172</td>\n      <td>1369.473117</td>\n      <td>48.275698</td>\n      <td>Relatively Low</td>\n      <td>March 2023</td>\n      <td>10303.0</td>\n    </tr>\n    <tr>\n      <th>36085032300</th>\n      <td>36</td>\n      <td>New York</td>\n      <td>NY</td>\n      <td>36085</td>\n      <td>Richmond</td>\n      <td>Census Tract 323, Richmond County, New York</td>\n      <td>1.493411</td>\n      <td>1200</td>\n      <td>380</td>\n      <td>500</td>\n      <td>...</td>\n      <td>Relatively Low</td>\n      <td>1.378944e-07</td>\n      <td>2.446915e-08</td>\n      <td>2.042799e-07</td>\n      <td>39.839585</td>\n      <td>431.022941</td>\n      <td>31.421538</td>\n      <td>Relatively Low</td>\n      <td>March 2023</td>\n      <td>10303.0</td>\n    </tr>\n  </tbody>\n</table>\n<p>2324 rows × 624 columns</p>\n</div>"
     },
     "metadata": {},
     "output_type": "display_data"
    }
   ],
   "source": [
    "svi2020_ZIP_codes = svi2020.set_index('FIPS').join(NRI_zip_codes, lsuffix='_SVI', rsuffix='_NRI')\n",
    "display(svi2020_ZIP_codes)"
   ],
   "metadata": {
    "collapsed": false,
    "ExecuteTime": {
     "end_time": "2023-12-10T01:43:39.988049Z",
     "start_time": "2023-12-10T01:43:39.942273Z"
    }
   },
   "id": "1b31eafeae6e4e7b"
  }
 ],
 "metadata": {
  "kernelspec": {
   "display_name": "Python 3",
   "language": "python",
   "name": "python3"
  },
  "language_info": {
   "codemirror_mode": {
    "name": "ipython",
    "version": 2
   },
   "file_extension": ".py",
   "mimetype": "text/x-python",
   "name": "python",
   "nbconvert_exporter": "python",
   "pygments_lexer": "ipython2",
   "version": "2.7.6"
  }
 },
 "nbformat": 4,
 "nbformat_minor": 5
}
